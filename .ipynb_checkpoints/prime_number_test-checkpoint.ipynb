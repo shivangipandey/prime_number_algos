{
 "cells": [
  {
   "cell_type": "markdown",
   "metadata": {},
   "source": [
    "# Test if a number is prime or not"
   ]
  },
  {
   "cell_type": "markdown",
   "metadata": {},
   "source": [
    "## We are going till sqrt(num) : \n",
    "\n",
    "Because the minimum prime factor of num can not be greater than sqrt(num), if the number is prime. And we need to prove, that there is no such 'minimum prime factor' for the num.\n",
    "\n",
    "## Explaination : \n",
    "\n",
    "let's say num = a * b ; a,b -> [2, num] ; this is true when num is not prime. \n",
    "\n",
    "Assuming a <= b, and a is the smallest prime factor of num. \n",
    "\n",
    "a.a = a^2\n",
    "\n",
    "a.b >= a^2 ; because b >= a\n",
    "\n",
    "and for a.b = num, if the number is not prime. \n",
    "\n",
    "num >= a^2 => a <= sqrt(num)\n",
    "\n",
    "In our code below, i is the smallest prime factor of num, if num is prime number, then num % i = 0, and i will be at max sqrt(num). Hence, we are traversing the loop from (2 , sqrt(num))\n",
    "\n",
    "## Complexity \n",
    "\n",
    "O(sqrt(num))\n"
   ]
  },
  {
   "cell_type": "code",
   "execution_count": 21,
   "metadata": {},
   "outputs": [],
   "source": [
    "import math"
   ]
  },
  {
   "cell_type": "code",
   "execution_count": 11,
   "metadata": {},
   "outputs": [],
   "source": [
    "def is_prime(num) : \n",
    "    \n",
    "    if num < 2:\n",
    "        return False\n",
    "    \n",
    "    counter = 2\n",
    "    \n",
    "    while counter * counter < num : \n",
    "        \n",
    "        if num % counter == 0 : \n",
    "            return False\n",
    "        \n",
    "        counter += 1\n",
    "        \n",
    "    return True"
   ]
  },
  {
   "cell_type": "code",
   "execution_count": 22,
   "metadata": {},
   "outputs": [
    {
     "data": {
      "text/plain": [
       "True"
      ]
     },
     "execution_count": 22,
     "metadata": {},
     "output_type": "execute_result"
    }
   ],
   "source": [
    "is_prime(761)"
   ]
  },
  {
   "cell_type": "code",
   "execution_count": null,
   "metadata": {},
   "outputs": [],
   "source": []
  }
 ],
 "metadata": {
  "kernelspec": {
   "display_name": "Python 3",
   "language": "python",
   "name": "python3"
  },
  "language_info": {
   "codemirror_mode": {
    "name": "ipython",
    "version": 3
   },
   "file_extension": ".py",
   "mimetype": "text/x-python",
   "name": "python",
   "nbconvert_exporter": "python",
   "pygments_lexer": "ipython3",
   "version": "3.5.2"
  }
 },
 "nbformat": 4,
 "nbformat_minor": 2
}
