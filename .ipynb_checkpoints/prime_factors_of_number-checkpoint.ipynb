{
 "cells": [
  {
   "cell_type": "markdown",
   "metadata": {},
   "source": [
    "# Find all the prime factors of a number"
   ]
  },
  {
   "cell_type": "markdown",
   "metadata": {},
   "source": [
    "### Idea : \n",
    "\n",
    "Starting from smallest prime number (2), check if the number is divisible by the current prime number, if yes then, keep on dividing the number by current prime number and increasing the frequency of the factor, until the number is not divisible by the current prime number anymore. \n",
    "\n",
    "Now increment the prime number to the next one, and repeat the process until the number is totally divided (equal to 1). \n",
    "\n",
    "### Logic below :\n",
    "\n",
    "Instead of picking only prime numbers, we are incrementing our factor by 1, because, all the numbers other then prime will be ignored in 'if num % factor == 0' condition, eg, for a factor 6 - if the original number is divisible by 6, then it's already converted into num/2 and num/3 by, 6's prime factors (2,3).\n",
    "\n",
    "### Optimization : \n",
    "\n",
    "#### factor <= sqrt(num) \n",
    "\n",
    "Lets take an example for this - \n",
    "\n",
    "num = 105\n",
    "\n",
    "factor = 2\n",
    "\n",
    "##### On iteration 1 - \n",
    "- 105 > 1 && 3*3 <= 105 = true\n",
    "- - 105 % 2 = false\n",
    "\n",
    "##### On iteration 2 - \n",
    "- 105 > 1 && 3*3 <= 105\n",
    "- - 105 % 3 = true\n",
    "- - - num = 105 / 3 = 35\n",
    "\n",
    "#### On iteration 3 -\n",
    "- 35 > 1 && 4*4 <= 35 = true\n",
    "- - 35 % 4 = false\n",
    "\n",
    "##### On iteration 4 - \n",
    "- 35 > 1 && 5*5 <= 35\n",
    "- - 35 % 5 = true\n",
    "- - - num = 35 / 5 = 7\n",
    "\n",
    "#### On iteration 5 -\n",
    "- 7 > 1 && 6*6 <= 7 = false\n",
    "\n",
    "#### Since 7 > 1 : \n",
    "Add factor as 7 and frequency 1\n",
    "\n",
    "#### Factors : 3, 5, 7\n",
    "\n",
    "As we know, that \"smallest prime factor of a composite number N is less than or equal to sqrt(N)\"\n",
    "\n",
    "For iteration 1 - \n",
    "\n",
    "num = 105, factor = 2 ; then it's minimum prime factor cannot be more than sqrt(105).\n",
    "\n",
    "For iteration 3 - \n",
    "\n",
    "num = 35, factor =  then it's minimum prime factor cannot be more than sqrt(35).\n",
    "\n",
    "And since, with respect to original number (105), we have already compared, factors (2,3,4), and hence, 35's prime factors cannot contain, 2,3,4 (if it would contain it, then the number would already be shortened to it's quotient)\n",
    "\n",
    "so, it's (35) minimum factor, will be between [5, sqrt(35)].\n",
    "\n",
    "And so on in the further iterations. \n",
    "\n",
    "Hence the condition factor <= sqrt(num).\n",
    "\n",
    "\n",
    "## Complexity \n",
    "O(sqrt(num))"
   ]
  },
  {
   "cell_type": "code",
   "execution_count": 63,
   "metadata": {},
   "outputs": [],
   "source": [
    "def print_prime_factors(num) : \n",
    "\n",
    "    factors_with_frequency = dict()\n",
    "    \n",
    "    factor = 2\n",
    "    \n",
    "    while (num > 1 and factor * factor <= num) : \n",
    "        \n",
    "        if num % factor == 0:\n",
    "            \n",
    "            frequency = 1\n",
    "            \n",
    "            num = int (num / factor)\n",
    "            \n",
    "            while num % factor == 0:\n",
    "            \n",
    "                num = int (num / factor)\n",
    "            \n",
    "                frequency += 1\n",
    "        \n",
    "            factors_with_frequency[factor] = frequency   \n",
    "         \n",
    "        factor += 1\n",
    "            \n",
    "    if (num > 1) :\n",
    "        \n",
    "        factors_with_frequency[num] = 1\n",
    "        \n",
    "    factors = list()\n",
    "    \n",
    "    for (factor, freq) in factors_with_frequency.items() : \n",
    "            \n",
    "        for i in range(0, freq) :\n",
    "                \n",
    "            factors.append(factor)\n",
    "            \n",
    "    return factors        \n",
    "    \n",
    "        "
   ]
  },
  {
   "cell_type": "code",
   "execution_count": 50,
   "metadata": {},
   "outputs": [
    {
     "data": {
      "text/plain": [
       "[2]"
      ]
     },
     "execution_count": 50,
     "metadata": {},
     "output_type": "execute_result"
    }
   ],
   "source": [
    "print_prime_factors(2)"
   ]
  },
  {
   "cell_type": "code",
   "execution_count": 59,
   "metadata": {},
   "outputs": [
    {
     "name": "stdout",
     "output_type": "stream",
     "text": [
      "[8896814057, 2, 2, 2, 2, 2, 2, 2, 2, 2, 2, 2, 2, 2, 2, 2, 2, 2, 2, 2, 2, 2, 2, 2, 2, 2, 2, 2, 2, 2, 2, 2, 2, 2, 2, 2, 2, 2, 2, 2, 2, 2, 2, 2, 2, 2, 2, 2, 2, 2, 2, 2, 2, 2, 2, 2, 2, 2, 2, 2, 2, 2, 2, 2, 2, 2, 2, 2, 2, 2, 2, 2, 2, 2, 2, 2, 2, 2, 2, 2, 2, 2, 2, 2, 2, 2, 2, 2, 2, 2, 2, 2, 2, 2, 2, 2, 2, 2, 2, 2, 2, 2, 2, 2, 2, 2, 2, 2, 2, 2, 2, 2, 2, 2, 2, 2, 2, 2, 677111]\n"
     ]
    }
   ],
   "source": [
    "print(print_prime_factors(1000930390932323877676656568878688888888869888888888))"
   ]
  },
  {
   "cell_type": "code",
   "execution_count": null,
   "metadata": {},
   "outputs": [],
   "source": []
  }
 ],
 "metadata": {
  "kernelspec": {
   "display_name": "Python 3",
   "language": "python",
   "name": "python3"
  },
  "language_info": {
   "codemirror_mode": {
    "name": "ipython",
    "version": 3
   },
   "file_extension": ".py",
   "mimetype": "text/x-python",
   "name": "python",
   "nbconvert_exporter": "python",
   "pygments_lexer": "ipython3",
   "version": "3.5.2"
  }
 },
 "nbformat": 4,
 "nbformat_minor": 2
}
